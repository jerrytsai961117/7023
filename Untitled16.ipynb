{
  "nbformat": 4,
  "nbformat_minor": 0,
  "metadata": {
    "colab": {
      "provenance": [],
      "authorship_tag": "ABX9TyPyzf6gvfugsum/jWNjmiwE",
      "include_colab_link": true
    },
    "kernelspec": {
      "name": "python3",
      "display_name": "Python 3"
    },
    "language_info": {
      "name": "python"
    }
  },
  "cells": [
    {
      "cell_type": "markdown",
      "metadata": {
        "id": "view-in-github",
        "colab_type": "text"
      },
      "source": [
        "<a href=\"https://colab.research.google.com/github/jerrytsai961117/7023/blob/main/Untitled16.ipynb\" target=\"_parent\"><img src=\"https://colab.research.google.com/assets/colab-badge.svg\" alt=\"Open In Colab\"/></a>"
      ]
    },
    {
      "cell_type": "code",
      "execution_count": null,
      "metadata": {
        "id": "Ab4_EOSSyaO-"
      },
      "outputs": [],
      "source": [
        "# 這裡以 OpenAI API 作為測試對象，若實際操作 Gemini 需要替換為 Google 的 Gemini API\n",
        "!pip install openai\n",
        "\n",
        "import openai\n",
        "import os\n",
        "\n",
        "# 設定 API 金鑰 (使用你自己的金鑰替換 'your-api-key')\n",
        "openai.api_key = \"your-api-key\"  # 請替換為你的金鑰\n"
      ]
    },
    {
      "cell_type": "code",
      "source": [
        "def run_prompt(prompt_text):\n",
        "    response = openai.ChatCompletion.create(\n",
        "        model=\"gpt-4\",\n",
        "        messages=[{\"role\": \"user\", \"content\": prompt_text}],\n",
        "        temperature=0.7\n",
        "    )\n",
        "    return response['choices'][0]['message']['content']\n",
        "\n",
        "# Prompts 列表\n",
        "prompts = [\n",
        "    \"解釋什麼是機器學習，請用簡單中文描述。\",\n",
        "    \"用三句話總結牛頓運動定律。\",\n",
        "    \"請用 Python 寫一段可以判斷質數的程式碼。\",\n",
        "    \"我是一名高中老師，幫我設計一堂 50 分鐘的 AI 入門課。\",\n",
        "    \"請將以下句子翻譯成英文：我今天很高興見到你。\",\n",
        "    \"以莎士比亞風格寫一段關於現代科技的詩。\",\n",
        "    \"比較太陽系中地球與火星的相似與不同。\",\n",
        "    \"給我三個用於初學者學習 AI 的免費網站資源。\",\n",
        "    \"寫一封求職信給資料分析師職位，背景為經濟系畢業，略懂 Python。\",\n",
        "    \"請解釋大數據與 AI 的關聯，並舉一個實際生活中的例子。\"\n",
        "]\n",
        "\n",
        "# 執行並儲存輸出\n",
        "results = []\n",
        "\n",
        "for i, prompt in enumerate(prompts):\n",
        "    output = run_prompt(prompt)\n",
        "    results.append((prompt, output))\n"
      ],
      "metadata": {
        "id": "f3UaX2I6yfmS"
      },
      "execution_count": null,
      "outputs": []
    },
    {
      "cell_type": "code",
      "source": [
        "# 顯示結果\n",
        "for i, (prompt, output) in enumerate(results):\n",
        "    print(f\"Prompt {i+1}: {prompt}\\n\")\n",
        "    print(f\"AI Response:\\n{output}\\n\")\n",
        "    print(\"=\"*80 + \"\\n\")\n"
      ],
      "metadata": {
        "id": "nrUXQQVRzF38"
      },
      "execution_count": null,
      "outputs": []
    }
  ]
}