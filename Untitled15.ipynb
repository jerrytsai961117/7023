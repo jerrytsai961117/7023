{
  "nbformat": 4,
  "nbformat_minor": 0,
  "metadata": {
    "colab": {
      "provenance": [],
      "authorship_tag": "ABX9TyN4vHDGUc4yP7+d+E6NvH0h",
      "include_colab_link": true
    },
    "kernelspec": {
      "name": "python3",
      "display_name": "Python 3"
    },
    "language_info": {
      "name": "python"
    }
  },
  "cells": [
    {
      "cell_type": "markdown",
      "metadata": {
        "id": "view-in-github",
        "colab_type": "text"
      },
      "source": [
        "<a href=\"https://colab.research.google.com/github/jerrytsai961117/7023/blob/main/Untitled15.ipynb\" target=\"_parent\"><img src=\"https://colab.research.google.com/assets/colab-badge.svg\" alt=\"Open In Colab\"/></a>"
      ]
    },
    {
      "cell_type": "code",
      "execution_count": null,
      "metadata": {
        "id": "uGrYj83Rx-JQ"
      },
      "outputs": [],
      "source": [
        "# Install necessary libraries\n",
        "!pip install -q -U google-generativeai\n",
        "\n",
        "import google.generativeai as genai\n",
        "import os\n",
        "\n",
        "# Configure your Google API Key\n",
        "# It's highly recommended to use Colab Secrets for secure storage (the \"🔑\" icon on the left panel).\n",
        "try:\n",
        "    from google.colab import userdata\n",
        "    genai.configure(api_key=userdata.get('GOOGLE_API_KEY'))\n",
        "    print(\"API key loaded from Colab Secrets.\")\n",
        "except Exception:\n",
        "    print(\"Please ensure you've set your GOOGLE_API_KEY in Colab Secrets. If not, replace 'YOUR_API_KEY' below manually.\")\n",
        "    # genai.configure(api_key=\"YOUR_API_KEY\") # Replace with your actual API key\n",
        "\n",
        "# Initialize the GenerativeModel\n",
        "# We'll use the 'gemini-pro' model for text generation tasks\n",
        "model = genai.GenerativeModel('gemini-pro')\n",
        "print(\"Model initialized.\")"
      ]
    },
    {
      "cell_type": "code",
      "source": [
        "def test_prompt(prompt_text, temperature=0.7, max_output_tokens=200):\n",
        "    \"\"\"\n",
        "    Sends a prompt to the AI model and prints its response.\n",
        "\n",
        "    Args:\n",
        "        prompt_text (str): The text of the prompt to send.\n",
        "        temperature (float): Controls the randomness of the response (0.0-1.0).\n",
        "                             Lower values are more deterministic, higher values are more creative.\n",
        "        max_output_tokens (int): The maximum number of tokens for the generated response.\n",
        "\n",
        "    Returns:\n",
        "        str: The AI-generated response text, or an error message if issues occur.\n",
        "    \"\"\"\n",
        "    print(f\"\\n--- Prompt (Temperature: {temperature}, Max Tokens: {max_output_tokens}) ---\")\n",
        "    print(prompt_text)\n",
        "    print(\"\\n--- AI Response ---\")\n",
        "    try:\n",
        "        response = model.generate_content(\n",
        "            prompt_text,\n",
        "            generation_config=genai.GenerationConfig(\n",
        "                temperature=temperature,\n",
        "                max_output_tokens=max_output_tokens\n",
        "            )\n",
        "        )\n",
        "        # Check if 'text' attribute exists to handle cases where content might be filtered\n",
        "        if hasattr(response, 'text'):\n",
        "            print(response.text)\n",
        "            return response.text\n",
        "        else:\n",
        "            print(\"[AI response has no text content, potentially due to safety filters or other issues.]\")\n",
        "            # You could print response.prompt_feedback here for more debugging info\n",
        "            return \"[No response]\"\n",
        "    except Exception as e:\n",
        "        print(f\"[An error occurred: {e}]\")\n",
        "        return \"[Error]\""
      ],
      "metadata": {
        "id": "haRkUjQjx_2s"
      },
      "execution_count": null,
      "outputs": []
    },
    {
      "cell_type": "code",
      "source": [
        "def reverse_string(s):\n",
        "    \"\"\"\n",
        "    Reverses a given string.\n",
        "\n",
        "    Args:\n",
        "        s (str): The input string.\n",
        "\n",
        "    Returns:\n",
        "        str: The reversed string.\n",
        "    \"\"\"\n",
        "    return s[::-1]\n",
        "\n",
        "# Example usage:\n",
        "original_string = \"hello world\"\n",
        "reversed_str = reverse_string(original_string)\n",
        "print(f\"Original string: '{original_string}'\")\n",
        "print(f\"Reversed string: '{reversed_str}'\")\n",
        "\n",
        "# Output:\n",
        "# Original string: 'hello world'\n",
        "# Reversed string: 'dlrow olleh'"
      ],
      "metadata": {
        "id": "zhhDaIH0yCBc"
      },
      "execution_count": null,
      "outputs": []
    }
  ]
}