{
  "nbformat": 4,
  "nbformat_minor": 0,
  "metadata": {
    "colab": {
      "provenance": [],
      "authorship_tag": "ABX9TyOF/4GYFe07NA/uFKVetuAZ",
      "include_colab_link": true
    },
    "kernelspec": {
      "name": "python3",
      "display_name": "Python 3"
    },
    "language_info": {
      "name": "python"
    }
  },
  "cells": [
    {
      "cell_type": "markdown",
      "metadata": {
        "id": "view-in-github",
        "colab_type": "text"
      },
      "source": [
        "<a href=\"https://colab.research.google.com/github/jerrytsai961117/7023/blob/main/Untitled14.ipynb\" target=\"_parent\"><img src=\"https://colab.research.google.com/assets/colab-badge.svg\" alt=\"Open In Colab\"/></a>"
      ]
    },
    {
      "cell_type": "code",
      "execution_count": null,
      "metadata": {
        "id": "VvVdHvdBug2H"
      },
      "outputs": [],
      "source": [
        "# 安裝必要的庫\n",
        "!pip install -q -U google-generativeai\n",
        "\n",
        "import google.generativeai as genai\n",
        "import os\n",
        "\n",
        "# 配置您的 Google API 金鑰\n",
        "# 強烈建議使用 Colab Secrets 來安全地儲存金鑰 (左側面板的「🔑」圖標)\n",
        "try:\n",
        "    from google.colab import userdata\n",
        "    genai.configure(api_key=userdata.get('GOOGLE_API_KEY'))\n",
        "    print(\"API 金鑰已從 Colab Secrets 加載。\")\n",
        "except Exception:\n",
        "    print(\"請確保您已在 Colab Secrets 中設定 GOOGLE_API_KEY。若無法從 Secrets 加載，請手動替換 'YOUR_API_KEY'。\")\n",
        "    # genai.configure(api_key=\"YOUR_API_KEY\") # 替換為您的實際 API 金鑰\n",
        "\n",
        "# 初始化 GenerativeModel\n",
        "# 使用 'gemini-pro' 模型進行文本生成\n",
        "model = genai.GenerativeModel('gemini-pro')\n",
        "print(\"模型已初始化。\")"
      ]
    },
    {
      "cell_type": "code",
      "source": [
        "def test_prompt(prompt_text, temperature=0.7, max_output_tokens=200):\n",
        "    \"\"\"\n",
        "    發送提示給 AI 模型並印出其回應。\n",
        "    Args:\n",
        "        prompt_text (str): 要發送的提示文字。\n",
        "        temperature (float): 控制回應的隨機性 (0.0-1.0)。\n",
        "        max_output_tokens (int): 回應的最大詞元數。\n",
        "    Returns:\n",
        "        str: AI 生成的回應文字。\n",
        "    \"\"\"\n",
        "    print(f\"\\n--- 提示 ({'溫度' if temperature != 0.7 else '默認'}, {'最大詞元' if max_output_tokens != 200 else '默認'}) ---\")\n",
        "    print(prompt_text)\n",
        "    print(\"\\n--- AI 回應 ---\")\n",
        "    try:\n",
        "        response = model.generate_content(\n",
        "            prompt_text,\n",
        "            generation_config=genai.GenerationConfig(\n",
        "                temperature=temperature,\n",
        "                max_output_tokens=max_output_tokens\n",
        "            )\n",
        "        )\n",
        "        # 處理可能沒有 text 屬性的情況 (如內容被安全過濾)\n",
        "        if hasattr(response, 'text'):\n",
        "            print(response.text)\n",
        "            return response.text\n",
        "        else:\n",
        "            print(\"[AI 回應無文本內容，可能被安全過濾或發生其他問題]\")\n",
        "            # 可以打印 response.parts 或 response.prompt_feedback 來檢查原因\n",
        "            # print(response.prompt_feedback)\n",
        "            return \"[無回應]\"\n",
        "    except Exception as e:\n",
        "        print(f\"[發生錯誤: {e}]\")\n",
        "        return \"[錯誤]\""
      ],
      "metadata": {
        "id": "puXjhaHYxLsb"
      },
      "execution_count": null,
      "outputs": []
    },
    {
      "cell_type": "code",
      "source": [
        "def sum_of_even_numbers(numbers):\n",
        "    \"\"\"\n",
        "    計算列表中所有偶數的和。\n",
        "\n",
        "    Args:\n",
        "        numbers (list): 包含數字的列表。\n",
        "\n",
        "    Returns:\n",
        "        int: 列表中所有偶數的和。\n",
        "    \"\"\"\n",
        "    total = 0\n",
        "    for num in numbers:\n",
        "        if num % 2 == 0:\n",
        "            total += num\n",
        "    return total\n",
        "\n",
        "# 測試函數\n",
        "my_list = [1, 2, 3, 4, 5, 6, 7, 8, 9, 10]\n",
        "result = sum_of_even_numbers(my_list)\n",
        "print(f\"列表中偶數的和為: {result}\") # 輸出: 列表中偶數的和為: 30"
      ],
      "metadata": {
        "id": "z-2Hrz0TxQNH"
      },
      "execution_count": null,
      "outputs": []
    }
  ]
}